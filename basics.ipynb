{
  "cells": [
    {
      "cell_type": "markdown",
      "metadata": {
        "id": "view-in-github",
        "colab_type": "text"
      },
      "source": [
        "<a href=\"https://colab.research.google.com/github/ANSHTHAKUR07/Somebasics/blob/main/basics.ipynb\" target=\"_parent\"><img src=\"https://colab.research.google.com/assets/colab-badge.svg\" alt=\"Open In Colab\"/></a>"
      ]
    },
    {
      "cell_type": "code",
      "execution_count": null,
      "metadata": {
        "id": "sUncaOwwJIy9"
      },
      "outputs": [],
      "source": [
        "#slicing\n",
        "\n",
        "a = 'ansh'\n",
        "\n"
      ]
    },
    {
      "cell_type": "code",
      "execution_count": null,
      "metadata": {
        "colab": {
          "base_uri": "https://localhost:8080/",
          "height": 35
        },
        "id": "IlSC7FivNY7V",
        "outputId": "0516c6e8-0474-46d9-f43b-ef1bcffc0565"
      },
      "outputs": [
        {
          "data": {
            "application/vnd.google.colaboratory.intrinsic+json": {
              "type": "string"
            },
            "text/plain": [
              "'h'"
            ]
          },
          "execution_count": 3,
          "metadata": {},
          "output_type": "execute_result"
        }
      ],
      "source": [
        "a[-1]"
      ]
    },
    {
      "cell_type": "code",
      "execution_count": null,
      "metadata": {
        "colab": {
          "base_uri": "https://localhost:8080/",
          "height": 35
        },
        "id": "33P9a5jDNeme",
        "outputId": "212081af-6d84-4795-b615-127552ad2fb4"
      },
      "outputs": [
        {
          "data": {
            "application/vnd.google.colaboratory.intrinsic+json": {
              "type": "string"
            },
            "text/plain": [
              "'an'"
            ]
          },
          "execution_count": 4,
          "metadata": {},
          "output_type": "execute_result"
        }
      ],
      "source": [
        "a[0:2]"
      ]
    },
    {
      "cell_type": "code",
      "execution_count": null,
      "metadata": {
        "colab": {
          "base_uri": "https://localhost:8080/",
          "height": 35
        },
        "id": "CYAdULjdNvYx",
        "outputId": "6acfdd33-5aa7-4501-e644-5418dd076ceb"
      },
      "outputs": [
        {
          "data": {
            "application/vnd.google.colaboratory.intrinsic+json": {
              "type": "string"
            },
            "text/plain": [
              "'nsh'"
            ]
          },
          "execution_count": 5,
          "metadata": {},
          "output_type": "execute_result"
        }
      ],
      "source": [
        "a[1:]"
      ]
    },
    {
      "cell_type": "code",
      "execution_count": null,
      "metadata": {
        "colab": {
          "base_uri": "https://localhost:8080/",
          "height": 35
        },
        "id": "p7dT8oGsN3VK",
        "outputId": "98fd53a8-acf8-4643-fe89-01c06b9f4e2d"
      },
      "outputs": [
        {
          "data": {
            "application/vnd.google.colaboratory.intrinsic+json": {
              "type": "string"
            },
            "text/plain": [
              "'ansh'"
            ]
          },
          "execution_count": 6,
          "metadata": {},
          "output_type": "execute_result"
        }
      ],
      "source": [
        "a[:]"
      ]
    },
    {
      "cell_type": "code",
      "execution_count": null,
      "metadata": {
        "id": "dVhhE3jFN5Pk"
      },
      "outputs": [],
      "source": []
    },
    {
      "cell_type": "code",
      "execution_count": null,
      "metadata": {
        "colab": {
          "base_uri": "https://localhost:8080/",
          "height": 35
        },
        "id": "wS-jO7v3OBQE",
        "outputId": "b7621024-af72-42ab-960e-36b0fbd3bd73"
      },
      "outputs": [
        {
          "data": {
            "application/vnd.google.colaboratory.intrinsic+json": {
              "type": "string"
            },
            "text/plain": [
              "'a'"
            ]
          },
          "execution_count": 7,
          "metadata": {},
          "output_type": "execute_result"
        }
      ],
      "source": [
        "a[0]"
      ]
    },
    {
      "cell_type": "code",
      "execution_count": null,
      "metadata": {
        "colab": {
          "base_uri": "https://localhost:8080/",
          "height": 35
        },
        "id": "IIhRDRCROC5u",
        "outputId": "5768cf80-6f0e-4e0e-c840-12a424b7d1f8"
      },
      "outputs": [
        {
          "data": {
            "application/vnd.google.colaboratory.intrinsic+json": {
              "type": "string"
            },
            "text/plain": [
              "'hsna'"
            ]
          },
          "execution_count": 8,
          "metadata": {},
          "output_type": "execute_result"
        }
      ],
      "source": [
        "# reverse the string\n",
        "\n",
        "a[::-1]"
      ]
    },
    {
      "cell_type": "code",
      "execution_count": null,
      "metadata": {
        "id": "Fwv_ZhVtOUhY"
      },
      "outputs": [],
      "source": [
        "#list\n",
        "#1. python data typ which consist of multiple elements\n",
        "#2. these elements can be of different data types\n",
        "#3. define the list with []\n",
        "#4. list are mutable"
      ]
    },
    {
      "cell_type": "code",
      "execution_count": null,
      "metadata": {
        "id": "NzmdCEkfO6Sb"
      },
      "outputs": [],
      "source": [
        "a =[12,23,57,'sumit',True]"
      ]
    },
    {
      "cell_type": "code",
      "execution_count": null,
      "metadata": {
        "colab": {
          "base_uri": "https://localhost:8080/"
        },
        "id": "4IkVGU2WPDTf",
        "outputId": "28945789-2dd7-4182-d4d4-fb1cf54ad3c6"
      },
      "outputs": [
        {
          "data": {
            "text/plain": [
              "list"
            ]
          },
          "execution_count": 11,
          "metadata": {},
          "output_type": "execute_result"
        }
      ],
      "source": [
        "type(a)"
      ]
    },
    {
      "cell_type": "code",
      "execution_count": null,
      "metadata": {
        "id": "xZzHSQdEPJbX"
      },
      "outputs": [],
      "source": [
        "a.append(\"ansh\") # to add"
      ]
    },
    {
      "cell_type": "code",
      "execution_count": null,
      "metadata": {
        "colab": {
          "base_uri": "https://localhost:8080/"
        },
        "id": "u29rtaHZPMWd",
        "outputId": "523c5d0c-cb90-4c01-fc37-2c18555c0666"
      },
      "outputs": [
        {
          "data": {
            "text/plain": [
              "[12, 23, 57, True, 'ansh', 'ansh']"
            ]
          },
          "execution_count": 22,
          "metadata": {},
          "output_type": "execute_result"
        }
      ],
      "source": [
        "a"
      ]
    },
    {
      "cell_type": "code",
      "execution_count": null,
      "metadata": {
        "id": "q8jlPhH6PSm8"
      },
      "outputs": [],
      "source": [
        "a.remove('ansh')"
      ]
    },
    {
      "cell_type": "code",
      "execution_count": null,
      "metadata": {
        "colab": {
          "base_uri": "https://localhost:8080/"
        },
        "id": "O_Ailr2OPgRV",
        "outputId": "bc0e0e62-dc92-4653-93eb-ab5859c4d45c"
      },
      "outputs": [
        {
          "data": {
            "text/plain": [
              "[12, 23, 57, True, 'ansh']"
            ]
          },
          "execution_count": 25,
          "metadata": {},
          "output_type": "execute_result"
        }
      ],
      "source": [
        "a\n"
      ]
    },
    {
      "cell_type": "code",
      "execution_count": null,
      "metadata": {
        "colab": {
          "base_uri": "https://localhost:8080/",
          "height": 35
        },
        "id": "0NMaQzqNPme2",
        "outputId": "edd1faa8-38a4-4c4c-e703-11054c91bb1b"
      },
      "outputs": [
        {
          "data": {
            "application/vnd.google.colaboratory.intrinsic+json": {
              "type": "string"
            },
            "text/plain": [
              "'ansh'"
            ]
          },
          "execution_count": 26,
          "metadata": {},
          "output_type": "execute_result"
        }
      ],
      "source": [
        "#extracting ansh from given list\n",
        "a[-1]\n"
      ]
    },
    {
      "cell_type": "code",
      "execution_count": null,
      "metadata": {
        "colab": {
          "base_uri": "https://localhost:8080/"
        },
        "id": "CAd7FeqLQ_XT",
        "outputId": "9439ab4a-1fc9-4007-ec0f-e8a9a789efbd"
      },
      "outputs": [
        {
          "data": {
            "text/plain": [
              "['ansh', True, 57, 23, 12]"
            ]
          },
          "execution_count": 27,
          "metadata": {},
          "output_type": "execute_result"
        }
      ],
      "source": [
        "a[::-1]"
      ]
    },
    {
      "cell_type": "code",
      "execution_count": null,
      "metadata": {
        "id": "JXN3i8LmRCZg"
      },
      "outputs": [],
      "source": [
        "#Tuples\n",
        "#python data types which consist of multiple elements\n",
        "#these elements can be different data types\n",
        "#define()\n",
        "#tuples are immutable\n",
        "#uneditable"
      ]
    },
    {
      "cell_type": "code",
      "execution_count": null,
      "metadata": {
        "id": "6zyiROhlRNkK"
      },
      "outputs": [],
      "source": [
        "a = (12,23,57,'sumit')"
      ]
    },
    {
      "cell_type": "code",
      "execution_count": null,
      "metadata": {
        "colab": {
          "base_uri": "https://localhost:8080/"
        },
        "id": "KHsRkzpMRe_3",
        "outputId": "5caf84c9-c601-473b-f1fd-4106ff3816c4"
      },
      "outputs": [
        {
          "data": {
            "text/plain": [
              "tuple"
            ]
          },
          "execution_count": 29,
          "metadata": {},
          "output_type": "execute_result"
        }
      ],
      "source": [
        "type(a)"
      ]
    },
    {
      "cell_type": "code",
      "execution_count": null,
      "metadata": {
        "colab": {
          "base_uri": "https://localhost:8080/",
          "height": 141
        },
        "id": "4LcX220PRhIe",
        "outputId": "5f9f7742-7e1f-4de0-a308-dc9677055c0a"
      },
      "outputs": [
        {
          "ename": "AttributeError",
          "evalue": "'tuple' object has no attribute 'append'",
          "output_type": "error",
          "traceback": [
            "\u001b[0;31m---------------------------------------------------------------------------\u001b[0m",
            "\u001b[0;31mAttributeError\u001b[0m                            Traceback (most recent call last)",
            "\u001b[0;32m<ipython-input-33-2e41bac965ea>\u001b[0m in \u001b[0;36m<cell line: 1>\u001b[0;34m()\u001b[0m\n\u001b[0;32m----> 1\u001b[0;31m \u001b[0ma\u001b[0m\u001b[0;34m.\u001b[0m\u001b[0mappend\u001b[0m\u001b[0;34m(\u001b[0m\u001b[0;34m'ansh'\u001b[0m\u001b[0;34m)\u001b[0m\u001b[0;34m\u001b[0m\u001b[0;34m\u001b[0m\u001b[0m\n\u001b[0m",
            "\u001b[0;31mAttributeError\u001b[0m: 'tuple' object has no attribute 'append'"
          ]
        }
      ],
      "source": [
        "a.append('ansh')"
      ]
    },
    {
      "cell_type": "code",
      "execution_count": null,
      "metadata": {
        "colab": {
          "base_uri": "https://localhost:8080/",
          "height": 141
        },
        "id": "39QeW6sOS6Vq",
        "outputId": "76656e98-9e51-433a-8008-0798e70d6ce8"
      },
      "outputs": [
        {
          "ename": "AttributeError",
          "evalue": "'tuple' object has no attribute 'remove'",
          "output_type": "error",
          "traceback": [
            "\u001b[0;31m---------------------------------------------------------------------------\u001b[0m",
            "\u001b[0;31mAttributeError\u001b[0m                            Traceback (most recent call last)",
            "\u001b[0;32m<ipython-input-34-d6df988451f2>\u001b[0m in \u001b[0;36m<cell line: 1>\u001b[0;34m()\u001b[0m\n\u001b[0;32m----> 1\u001b[0;31m \u001b[0ma\u001b[0m\u001b[0;34m.\u001b[0m\u001b[0mremove\u001b[0m\u001b[0;34m(\u001b[0m\u001b[0;34m'ansh'\u001b[0m\u001b[0;34m)\u001b[0m\u001b[0;34m\u001b[0m\u001b[0;34m\u001b[0m\u001b[0m\n\u001b[0m",
            "\u001b[0;31mAttributeError\u001b[0m: 'tuple' object has no attribute 'remove'"
          ]
        }
      ],
      "source": [
        "a.remove('ansh')"
      ]
    },
    {
      "cell_type": "code",
      "execution_count": null,
      "metadata": {
        "id": "Sr_sUP3LSYfE"
      },
      "outputs": [],
      "source": [
        "#dictionary\n",
        "#1. key and values\n",
        "#2. uses curly bracket"
      ]
    },
    {
      "cell_type": "code",
      "execution_count": null,
      "metadata": {
        "id": "JX8CAoeBSdpz"
      },
      "outputs": [],
      "source": [
        "dict = {'ansh':21, 'ram':20,'raj':22}"
      ]
    },
    {
      "cell_type": "markdown",
      "metadata": {
        "id": "ZrDcbPFdTAyr"
      },
      "source": []
    },
    {
      "cell_type": "code",
      "execution_count": null,
      "metadata": {
        "id": "ZcciRC5jSrUw"
      },
      "outputs": [],
      "source": [
        "dict = {'ansh':[21,45,23], 'amrit':[20,19,13]}"
      ]
    },
    {
      "cell_type": "code",
      "execution_count": null,
      "metadata": {
        "colab": {
          "base_uri": "https://localhost:8080/"
        },
        "id": "dYIU-ZoTTC4u",
        "outputId": "a39d310e-74aa-4767-e45f-c161df4b5933"
      },
      "outputs": [
        {
          "data": {
            "text/plain": [
              "45"
            ]
          },
          "execution_count": 35,
          "metadata": {},
          "output_type": "execute_result"
        }
      ],
      "source": [
        "dict['ansh'][1]"
      ]
    },
    {
      "cell_type": "code",
      "execution_count": null,
      "metadata": {
        "colab": {
          "base_uri": "https://localhost:8080/"
        },
        "id": "Ne09O7snUZpy",
        "outputId": "16172bad-11b4-4089-ce8b-2277531ea227"
      },
      "outputs": [
        {
          "data": {
            "text/plain": [
              "{'ansh': [21, 45, 23], 'amrit': [20, 19, 13]}"
            ]
          },
          "execution_count": 36,
          "metadata": {},
          "output_type": "execute_result"
        }
      ],
      "source": [
        "dict"
      ]
    },
    {
      "cell_type": "code",
      "execution_count": null,
      "metadata": {
        "id": "it70FGgTUmQV"
      },
      "outputs": [],
      "source": [
        "#sets\n",
        "a ={1,1,2,3,4,5,3}"
      ]
    },
    {
      "cell_type": "code",
      "execution_count": null,
      "metadata": {
        "colab": {
          "base_uri": "https://localhost:8080/"
        },
        "id": "Ldk2QV3ZUqud",
        "outputId": "b7dc6e3e-4a9a-4297-e29f-cc79872249f1"
      },
      "outputs": [
        {
          "data": {
            "text/plain": [
              "{1, 2, 3, 4, 5}"
            ]
          },
          "execution_count": 38,
          "metadata": {},
          "output_type": "execute_result"
        }
      ],
      "source": [
        "a"
      ]
    },
    {
      "cell_type": "code",
      "execution_count": null,
      "metadata": {
        "id": "oayHhH7KUuLr"
      },
      "outputs": [],
      "source": [
        "a =[2,2,1,1,3,8,5]"
      ]
    },
    {
      "cell_type": "code",
      "execution_count": null,
      "metadata": {
        "id": "5aUomKoUVT3Z"
      },
      "outputs": [],
      "source": [
        "a.sort()"
      ]
    },
    {
      "cell_type": "code",
      "execution_count": null,
      "metadata": {
        "colab": {
          "base_uri": "https://localhost:8080/"
        },
        "id": "3ntom7-NVXRe",
        "outputId": "97917680-d4ea-4f8d-9030-7ce327ac16cd"
      },
      "outputs": [
        {
          "data": {
            "text/plain": [
              "[1, 1, 2, 2, 3, 5, 8]"
            ]
          },
          "execution_count": 41,
          "metadata": {},
          "output_type": "execute_result"
        }
      ],
      "source": [
        "a\n"
      ]
    },
    {
      "cell_type": "code",
      "execution_count": null,
      "metadata": {
        "colab": {
          "base_uri": "https://localhost:8080/"
        },
        "id": "63pkALnxVYQ0",
        "outputId": "b708adbd-310e-46be-a34b-f07acca931b8"
      },
      "outputs": [
        {
          "data": {
            "text/plain": [
              "[1, 2, 3, 5, 8]"
            ]
          },
          "execution_count": 43,
          "metadata": {},
          "output_type": "execute_result"
        }
      ],
      "source": [
        "b= set(a)\n",
        "b = list(b)\n",
        "b\n"
      ]
    },
    {
      "cell_type": "code",
      "execution_count": null,
      "metadata": {
        "colab": {
          "base_uri": "https://localhost:8080/"
        },
        "id": "lQu8NY6GVhUf",
        "outputId": "e2e3eda6-bd37-4105-c4b8-55654abcbb05"
      },
      "outputs": [
        {
          "data": {
            "text/plain": [
              "2"
            ]
          },
          "execution_count": 44,
          "metadata": {},
          "output_type": "execute_result"
        }
      ],
      "source": [
        "b[1]"
      ]
    },
    {
      "cell_type": "code",
      "execution_count": null,
      "metadata": {
        "id": "p3aWi-qPVsQL"
      },
      "outputs": [],
      "source": [
        "a = [1,2,5,3,8,6] #print the alternate element of list"
      ]
    },
    {
      "cell_type": "code",
      "execution_count": null,
      "metadata": {
        "colab": {
          "base_uri": "https://localhost:8080/"
        },
        "id": "0pIidAXYWcZY",
        "outputId": "91307664-507b-4a15-fd47-bb718aa5fa46"
      },
      "outputs": [
        {
          "name": "stdout",
          "output_type": "stream",
          "text": [
            "[1, 5, 8]\n"
          ]
        }
      ],
      "source": [
        "print(a[::2])"
      ]
    },
    {
      "cell_type": "code",
      "execution_count": null,
      "metadata": {
        "colab": {
          "base_uri": "https://localhost:8080/"
        },
        "id": "8IAkNMKsWpwN",
        "outputId": "a4af68cc-0e57-474f-e815-125868de2590"
      },
      "outputs": [
        {
          "data": {
            "text/plain": [
              "6"
            ]
          },
          "execution_count": 52,
          "metadata": {},
          "output_type": "execute_result"
        }
      ],
      "source": [
        "#finding length of the list\n",
        "len(a)"
      ]
    },
    {
      "cell_type": "code",
      "execution_count": null,
      "metadata": {
        "id": "nDtXk1JmXOt-"
      },
      "outputs": [],
      "source": [
        "#to remove the dublicate can use set"
      ]
    },
    {
      "cell_type": "code",
      "execution_count": null,
      "metadata": {
        "id": "BV59NmnuXd3E"
      },
      "outputs": [],
      "source": [
        "# new day 13june,2024"
      ]
    },
    {
      "cell_type": "code",
      "execution_count": null,
      "metadata": {
        "id": "j0W1ywDcPliH"
      },
      "outputs": [],
      "source": [
        "#taking input from user"
      ]
    },
    {
      "cell_type": "code",
      "execution_count": null,
      "metadata": {
        "colab": {
          "base_uri": "https://localhost:8080/"
        },
        "id": "tgo00gR-QsLK",
        "outputId": "2cf5ca34-49f8-4682-8a31-fd30d7d56ca8"
      },
      "outputs": [
        {
          "name": "stdout",
          "output_type": "stream",
          "text": [
            "7\n"
          ]
        }
      ],
      "source": [
        "a =  input()"
      ]
    },
    {
      "cell_type": "code",
      "execution_count": null,
      "metadata": {
        "colab": {
          "base_uri": "https://localhost:8080/"
        },
        "id": "Bxix4478Q1WK",
        "outputId": "f65762eb-f6ac-4a84-f49e-ba1950789a61"
      },
      "outputs": [
        {
          "data": {
            "text/plain": [
              "str"
            ]
          },
          "execution_count": 2,
          "metadata": {},
          "output_type": "execute_result"
        }
      ],
      "source": [
        "type (a)"
      ]
    },
    {
      "cell_type": "code",
      "execution_count": null,
      "metadata": {
        "colab": {
          "base_uri": "https://localhost:8080/"
        },
        "id": "XlNyMeClQ7ic",
        "outputId": "6274fe4b-2202-4b08-ef99-0e80551c2688"
      },
      "outputs": [
        {
          "name": "stdout",
          "output_type": "stream",
          "text": [
            "1\n",
            "2\n"
          ]
        },
        {
          "data": {
            "text/plain": [
              "3"
            ]
          },
          "execution_count": 4,
          "metadata": {},
          "output_type": "execute_result"
        }
      ],
      "source": [
        "a = int(input())\n",
        "b = int (input())\n",
        "a+b"
      ]
    },
    {
      "cell_type": "code",
      "execution_count": null,
      "metadata": {
        "id": "Bq3ZSwPFRHsg"
      },
      "outputs": [],
      "source": [
        "# take the list as an input from the user sperated by space\n",
        "# input [2 3 5 7]\n",
        "# output [2,3,5,7]\n"
      ]
    },
    {
      "cell_type": "code",
      "execution_count": null,
      "metadata": {
        "colab": {
          "base_uri": "https://localhost:8080/"
        },
        "id": "PbkaREgkRYmQ",
        "outputId": "2a9dce58-8b2f-4609-c49c-0ce2bcef3d44"
      },
      "outputs": [
        {
          "name": "stdout",
          "output_type": "stream",
          "text": [
            "1 2 3 4 5\n"
          ]
        }
      ],
      "source": [
        "a = input().split(\" \")"
      ]
    },
    {
      "cell_type": "code",
      "execution_count": null,
      "metadata": {
        "colab": {
          "base_uri": "https://localhost:8080/"
        },
        "id": "p3teZtDGRhPW",
        "outputId": "7786752c-da24-485a-865b-9cd82a53fd90"
      },
      "outputs": [
        {
          "data": {
            "text/plain": [
              "['1', '2', '3', '4', '5']"
            ]
          },
          "execution_count": 9,
          "metadata": {},
          "output_type": "execute_result"
        }
      ],
      "source": [
        "a\n"
      ]
    },
    {
      "cell_type": "code",
      "execution_count": null,
      "metadata": {
        "id": "3_MP8KxYRojP"
      },
      "outputs": [],
      "source": [
        "#for single value use int but for multiple use map command\n"
      ]
    },
    {
      "cell_type": "code",
      "execution_count": null,
      "metadata": {
        "id": "hhZyCp3kRx48"
      },
      "outputs": [],
      "source": [
        "# take the list as an input from the user sperated by space\n",
        "# input 2 3 5 7\n",
        "# output [2,3,5,7]"
      ]
    },
    {
      "cell_type": "code",
      "execution_count": null,
      "metadata": {
        "colab": {
          "base_uri": "https://localhost:8080/"
        },
        "id": "TciKbl1-R22X",
        "outputId": "8002118c-3776-43fc-d04f-1de578845077"
      },
      "outputs": [
        {
          "name": "stdout",
          "output_type": "stream",
          "text": [
            "2 3 4 5 7\n",
            "[2, 3, 4, 5, 7]\n"
          ]
        }
      ],
      "source": [
        "a= list(map(int,input().split(\" \")))\n",
        "print (a)"
      ]
    },
    {
      "cell_type": "code",
      "execution_count": null,
      "metadata": {
        "colab": {
          "base_uri": "https://localhost:8080/"
        },
        "id": "w3dQ-Z7wSNvV",
        "outputId": "b017543d-8b86-4d16-ec7d-c5f3333f1b6c"
      },
      "outputs": [
        {
          "data": {
            "text/plain": [
              "[2, 3, 4, 5, 7]"
            ]
          },
          "execution_count": 11,
          "metadata": {},
          "output_type": "execute_result"
        }
      ],
      "source": [
        "a"
      ]
    },
    {
      "cell_type": "code",
      "execution_count": null,
      "metadata": {
        "id": "_KbzLJDVSUAc"
      },
      "outputs": [],
      "source": [
        "#take input from user and store in a list and return reverse of the list"
      ]
    },
    {
      "cell_type": "code",
      "execution_count": null,
      "metadata": {
        "colab": {
          "base_uri": "https://localhost:8080/"
        },
        "id": "mRWD5xabSdya",
        "outputId": "f2222c9b-b0e0-46b1-8c84-6746d00fe82f"
      },
      "outputs": [
        {
          "name": "stdout",
          "output_type": "stream",
          "text": [
            "1 2 3 4 5\n",
            "[1, 2, 3, 4, 5]\n"
          ]
        }
      ],
      "source": [
        "a = list(map(int, input().split(\" \")))\n",
        "print(a)"
      ]
    },
    {
      "cell_type": "code",
      "execution_count": null,
      "metadata": {
        "colab": {
          "base_uri": "https://localhost:8080/"
        },
        "id": "a3NlHL_fSzdX",
        "outputId": "78ad181d-e5fd-40b7-bf45-881c1035de7b"
      },
      "outputs": [
        {
          "data": {
            "text/plain": [
              "[5, 4, 3, 2, 1]"
            ]
          },
          "execution_count": 13,
          "metadata": {},
          "output_type": "execute_result"
        }
      ],
      "source": [
        "a[::-1]"
      ]
    },
    {
      "cell_type": "code",
      "execution_count": null,
      "metadata": {
        "id": "d95MzAAVURyS"
      },
      "outputs": [],
      "source": [
        "#take the input as comma seperated and store it in a list"
      ]
    },
    {
      "cell_type": "code",
      "execution_count": null,
      "metadata": {
        "colab": {
          "base_uri": "https://localhost:8080/"
        },
        "id": "VU0k4XMLURNh",
        "outputId": "9540259c-a7dd-4db3-af0e-358a62218ee5"
      },
      "outputs": [
        {
          "name": "stdout",
          "output_type": "stream",
          "text": [
            "2,1,4,5\n"
          ]
        },
        {
          "data": {
            "text/plain": [
              "[2, 1, 4, 5]"
            ]
          },
          "execution_count": 15,
          "metadata": {},
          "output_type": "execute_result"
        }
      ],
      "source": [
        "a = list(map(int, input().split(\",\")))\n",
        "a"
      ]
    },
    {
      "cell_type": "code",
      "execution_count": null,
      "metadata": {
        "colab": {
          "base_uri": "https://localhost:8080/"
        },
        "id": "XeuOrGsxUn8Z",
        "outputId": "2cbbeee8-7e67-4a30-872b-31ef98bb8f75"
      },
      "outputs": [
        {
          "name": "stdout",
          "output_type": "stream",
          "text": [
            "na na\n"
          ]
        }
      ],
      "source": [
        "#conditional statement\n",
        "\n",
        "a = 5\n",
        "if a > 5:\n",
        "  print(\"yo\")\n",
        "else:\n",
        "    print(\"na na\")"
      ]
    },
    {
      "cell_type": "code",
      "execution_count": null,
      "metadata": {
        "colab": {
          "base_uri": "https://localhost:8080/"
        },
        "id": "pder-P4VVDeP",
        "outputId": "8ff809f7-c930-4ba7-c326-6d7287a64478"
      },
      "outputs": [
        {
          "name": "stdout",
          "output_type": "stream",
          "text": [
            "na na\n"
          ]
        }
      ],
      "source": [
        "a = 5\n",
        "\n",
        "if a > 5:\n",
        "  print(\"hi\")\n",
        "elif a == 10:\n",
        "    print(\"yo\")\n",
        "else:\n",
        "    print(\"na na\")"
      ]
    },
    {
      "cell_type": "code",
      "execution_count": null,
      "metadata": {
        "id": "8LL24kxZVaFX"
      },
      "outputs": [],
      "source": [
        "#write a code to take input from user and return weather the number is even or odd"
      ]
    },
    {
      "cell_type": "code",
      "execution_count": null,
      "metadata": {
        "colab": {
          "base_uri": "https://localhost:8080/"
        },
        "id": "3JB8nMw8VgWv",
        "outputId": "2891c6c8-a207-4bf5-d839-b38fc0ab49fc"
      },
      "outputs": [
        {
          "name": "stdout",
          "output_type": "stream",
          "text": [
            "2\n",
            "even\n"
          ]
        }
      ],
      "source": [
        "a = int(input())\n",
        "if a % 2 == 0:\n",
        "    print(\"even\")\n",
        "else:\n",
        "    print(\"odd\")"
      ]
    },
    {
      "cell_type": "code",
      "execution_count": null,
      "metadata": {
        "id": "d4srXTBJWIp7"
      },
      "outputs": [],
      "source": [
        "# write a code which will check wheather the given string is pallindrome or not\n",
        "#pallidrome is number wile reverseing string comes same"
      ]
    },
    {
      "cell_type": "code",
      "execution_count": null,
      "metadata": {
        "colab": {
          "base_uri": "https://localhost:8080/"
        },
        "id": "kiHZuMPMW9gH",
        "outputId": "1bdff6c7-8291-4c27-bb4a-28b63161c832"
      },
      "outputs": [
        {
          "name": "stdout",
          "output_type": "stream",
          "text": [
            "12.21\n",
            "pallindrome\n"
          ]
        }
      ],
      "source": [
        "a = input()\n",
        "if a==a[::-1]:\n",
        "    print(\"pallindrome\")\n",
        "else:\n",
        "    print(\"not pallindrome\")"
      ]
    },
    {
      "cell_type": "code",
      "execution_count": null,
      "metadata": {
        "id": "KdTf-rpLYD-f"
      },
      "outputs": [],
      "source": [
        "#write a code with ypu have to take 3 input variable from user and return the lowest value"
      ]
    },
    {
      "cell_type": "code",
      "execution_count": null,
      "metadata": {
        "colab": {
          "base_uri": "https://localhost:8080/"
        },
        "id": "MYMBfs5hYR4N",
        "outputId": "b1931125-c99b-4511-c0a8-5e8971ca3740"
      },
      "outputs": [
        {
          "name": "stdout",
          "output_type": "stream",
          "text": [
            "1\n",
            "1\n",
            "2\n",
            "1\n"
          ]
        }
      ],
      "source": [
        "a = input()\n",
        "b = input()\n",
        "c = input()\n",
        "if a<=b and a<=c:\n",
        "    print(a)\n",
        "elif b<=a and b<=c:\n",
        "    print(b)\n",
        "else:\n",
        "    print(c)"
      ]
    },
    {
      "cell_type": "code",
      "execution_count": null,
      "metadata": {
        "id": "L1w7iLHaZ9Rp"
      },
      "outputs": [],
      "source": [
        "# write a code to check wheather the given year is leap year or not"
      ]
    },
    {
      "cell_type": "code",
      "execution_count": null,
      "metadata": {
        "colab": {
          "base_uri": "https://localhost:8080/"
        },
        "id": "7ShOgqb4aEVZ",
        "outputId": "78c7f739-d051-441e-f7e4-25befb113d0b"
      },
      "outputs": [
        {
          "name": "stdout",
          "output_type": "stream",
          "text": [
            "2021\n",
            "not leap year\n"
          ]
        }
      ],
      "source": [
        "year = int(input())\n",
        "if (year % 4 == 0) or ( year % 100 == 0) or (year % 400 == 0):\n",
        "    print(\"leap year\")\n",
        "else:\n",
        "    print(\"not leap year\")"
      ]
    },
    {
      "cell_type": "code",
      "execution_count": null,
      "metadata": {
        "id": "Xxy8njCqcSG6"
      },
      "outputs": [],
      "source": [
        "#looping"
      ]
    },
    {
      "cell_type": "code",
      "execution_count": null,
      "metadata": {
        "colab": {
          "base_uri": "https://localhost:8080/"
        },
        "id": "ZlC3H7OccUFN",
        "outputId": "7c58cf65-8d4d-4fad-9159-5642faf57e57"
      },
      "outputs": [
        {
          "name": "stdout",
          "output_type": "stream",
          "text": [
            "1\n",
            "2\n",
            "3\n",
            "4\n",
            "5\n",
            "6\n",
            "7\n",
            "8\n",
            "9\n"
          ]
        }
      ],
      "source": [
        "for i in  range (1,10):\n",
        "    print(i)"
      ]
    },
    {
      "cell_type": "code",
      "execution_count": null,
      "metadata": {
        "id": "yQDkS-B1clhR"
      },
      "outputs": [],
      "source": [
        "#print all the even number from 1 to 100"
      ]
    },
    {
      "cell_type": "code",
      "execution_count": null,
      "metadata": {
        "colab": {
          "base_uri": "https://localhost:8080/"
        },
        "id": "ofbD4Ax_cs1C",
        "outputId": "5d67d2a9-f658-4171-ec8c-8fde2c1efd06"
      },
      "outputs": [
        {
          "name": "stdout",
          "output_type": "stream",
          "text": [
            "2\n",
            "4\n",
            "6\n",
            "8\n",
            "10\n",
            "12\n",
            "14\n",
            "16\n",
            "18\n",
            "20\n",
            "22\n",
            "24\n",
            "26\n",
            "28\n",
            "30\n",
            "32\n",
            "34\n",
            "36\n",
            "38\n",
            "40\n",
            "42\n",
            "44\n",
            "46\n",
            "48\n",
            "50\n",
            "52\n",
            "54\n",
            "56\n",
            "58\n",
            "60\n",
            "62\n",
            "64\n",
            "66\n",
            "68\n",
            "70\n",
            "72\n",
            "74\n",
            "76\n",
            "78\n",
            "80\n",
            "82\n",
            "84\n",
            "86\n",
            "88\n",
            "90\n",
            "92\n",
            "94\n",
            "96\n",
            "98\n",
            "100\n"
          ]
        }
      ],
      "source": [
        "\n",
        "for i in range (1,101):\n",
        "    if i%2==0:\n",
        "        print(i)"
      ]
    },
    {
      "cell_type": "code",
      "execution_count": null,
      "metadata": {
        "id": "rto2ojOtdKl7"
      },
      "outputs": [],
      "source": [
        "#printing it into list\n",
        "x=[]\n",
        "for i in range (1,101):\n",
        "    if i%2==0:\n",
        "        x.append(i)"
      ]
    },
    {
      "cell_type": "code",
      "execution_count": null,
      "metadata": {
        "colab": {
          "base_uri": "https://localhost:8080/"
        },
        "id": "f-Trvc3jdboH",
        "outputId": "04875e3e-5d61-4c0f-863b-316a5d1cbcc9"
      },
      "outputs": [
        {
          "data": {
            "text/plain": [
              "[2,\n",
              " 4,\n",
              " 6,\n",
              " 8,\n",
              " 10,\n",
              " 12,\n",
              " 14,\n",
              " 16,\n",
              " 18,\n",
              " 20,\n",
              " 22,\n",
              " 24,\n",
              " 26,\n",
              " 28,\n",
              " 30,\n",
              " 32,\n",
              " 34,\n",
              " 36,\n",
              " 38,\n",
              " 40,\n",
              " 42,\n",
              " 44,\n",
              " 46,\n",
              " 48,\n",
              " 50,\n",
              " 52,\n",
              " 54,\n",
              " 56,\n",
              " 58,\n",
              " 60,\n",
              " 62,\n",
              " 64,\n",
              " 66,\n",
              " 68,\n",
              " 70,\n",
              " 72,\n",
              " 74,\n",
              " 76,\n",
              " 78,\n",
              " 80,\n",
              " 82,\n",
              " 84,\n",
              " 86,\n",
              " 88,\n",
              " 90,\n",
              " 92,\n",
              " 94,\n",
              " 96,\n",
              " 98,\n",
              " 100]"
            ]
          },
          "execution_count": 49,
          "metadata": {},
          "output_type": "execute_result"
        }
      ],
      "source": [
        "x\n"
      ]
    },
    {
      "cell_type": "code",
      "execution_count": null,
      "metadata": {
        "id": "j7iaItw5dc5h"
      },
      "outputs": [],
      "source": [
        "#take the list as an input and return the sum of all elements of the list"
      ]
    },
    {
      "cell_type": "code",
      "execution_count": null,
      "metadata": {
        "colab": {
          "base_uri": "https://localhost:8080/"
        },
        "id": "9yvhSDaFdmed",
        "outputId": "2b833b19-9d65-4f7c-cf0a-da1ea9f1a4a0"
      },
      "outputs": [
        {
          "name": "stdout",
          "output_type": "stream",
          "text": [
            "1 2 1\n",
            "4\n"
          ]
        }
      ],
      "source": [
        "a = list(map(int, input().split(\" \")))\n",
        "x = 0\n",
        "for i in a:\n",
        "    x = x + i\n",
        "print(x)"
      ]
    },
    {
      "cell_type": "code",
      "execution_count": null,
      "metadata": {
        "id": "MfMJstHwesA_"
      },
      "outputs": [],
      "source": [
        "#write a code to find the factorial of the given number"
      ]
    },
    {
      "cell_type": "code",
      "execution_count": null,
      "metadata": {
        "colab": {
          "base_uri": "https://localhost:8080/"
        },
        "id": "nXx7d0Yqewzs",
        "outputId": "21bf5fb1-538b-4269-99cd-2b7178a245aa"
      },
      "outputs": [
        {
          "name": "stdout",
          "output_type": "stream",
          "text": [
            "4\n",
            "24\n"
          ]
        }
      ],
      "source": [
        "a = int(input())\n",
        "x = 1\n",
        "for i in range (1,a+1):\n",
        "    x = x * i\n",
        "print(x)"
      ]
    },
    {
      "cell_type": "code",
      "execution_count": null,
      "metadata": {
        "colab": {
          "base_uri": "https://localhost:8080/"
        },
        "id": "IKnrK9cpf8iw",
        "outputId": "61b180f3-a6b8-4579-a0ff-bc9af474b689"
      },
      "outputs": [
        {
          "name": "stdout",
          "output_type": "stream",
          "text": [
            "5\n",
            "5\n"
          ]
        }
      ],
      "source": [
        "a = int(input())\n",
        "\n",
        "for i in range (1,a+1):\n",
        "  x = 1\n",
        "  x = x * i\n",
        "print(x)"
      ]
    },
    {
      "cell_type": "code",
      "execution_count": null,
      "metadata": {
        "id": "0PsgX6xHgEVI"
      },
      "outputs": [],
      "source": [
        "# write a code to find the factor of the given number and store it into list\n"
      ]
    },
    {
      "cell_type": "code",
      "execution_count": null,
      "metadata": {
        "colab": {
          "base_uri": "https://localhost:8080/"
        },
        "id": "R9X3RNJ9hnh3",
        "outputId": "19ec4236-988f-44e2-882a-e42f8c647f43"
      },
      "outputs": [
        {
          "name": "stdout",
          "output_type": "stream",
          "text": [
            "1\n",
            "[1]\n"
          ]
        }
      ],
      "source": [
        "a = int (input())\n",
        "x =[]\n",
        "for i in range (1,a+1):\n",
        "    if a % i == 0:\n",
        "        x.append(i)\n",
        "print(x)"
      ]
    },
    {
      "cell_type": "code",
      "execution_count": null,
      "metadata": {
        "colab": {
          "base_uri": "https://localhost:8080/"
        },
        "id": "3wxehMx5gUK8",
        "outputId": "ecd271ea-28ba-4493-dadb-a465e5e03a82"
      },
      "outputs": [
        {
          "name": "stdout",
          "output_type": "stream",
          "text": [
            "24\n",
            "[1, 2, 3, 4, 6, 8, 12, 24]\n"
          ]
        }
      ],
      "source": [
        "a = int (input())\n",
        "x =[]\n",
        "for i in range (1,a+1):\n",
        "    if a % i == 0:\n",
        "        x.append(i)\n",
        "print(x)"
      ]
    },
    {
      "cell_type": "code",
      "execution_count": null,
      "metadata": {
        "id": "uEHIs_seh5EW"
      },
      "outputs": [],
      "source": [
        "#write a code to print the HCF of the two given number"
      ]
    },
    {
      "cell_type": "code",
      "execution_count": null,
      "metadata": {
        "colab": {
          "base_uri": "https://localhost:8080/"
        },
        "id": "gO8h5sXjiBqb",
        "outputId": "ab2dd341-5352-49d7-f74c-2d2ec169488c"
      },
      "outputs": [
        {
          "name": "stdout",
          "output_type": "stream",
          "text": [
            "24\n",
            "54\n",
            "6\n"
          ]
        }
      ],
      "source": [
        "a = int(input())\n",
        "b = int(input())\n",
        "for i in range (1,a+1):\n",
        "    if a % i == 0 and b % i == 0:\n",
        "        x = i\n",
        "print(x)"
      ]
    },
    {
      "cell_type": "code",
      "execution_count": null,
      "metadata": {
        "id": "HskhGfw3jGWW"
      },
      "outputs": [],
      "source": [
        "#by sir"
      ]
    },
    {
      "cell_type": "code",
      "execution_count": null,
      "metadata": {
        "colab": {
          "base_uri": "https://localhost:8080/"
        },
        "id": "VZwp4JCSjJSc",
        "outputId": "946731d5-e646-4975-8898-79d9330b4b23"
      },
      "outputs": [
        {
          "name": "stdout",
          "output_type": "stream",
          "text": [
            "2\n",
            "10\n",
            "1\n"
          ]
        }
      ],
      "source": [
        "a = int(input())\n",
        "b = int(input())\n",
        "hcf = 1\n",
        "for i in range(i,a+1):\n",
        "    if(a % i == 0 and b % i == 0):\n",
        "        hcf = i\n",
        "print(hcf)"
      ]
    },
    {
      "cell_type": "code",
      "execution_count": null,
      "metadata": {
        "id": "PA_Szv9hMKW5"
      },
      "outputs": [],
      "source": [
        "#write a code to check the number is prime or not"
      ]
    },
    {
      "cell_type": "code",
      "execution_count": null,
      "metadata": {
        "colab": {
          "base_uri": "https://localhost:8080/"
        },
        "id": "SD55biSoL94N",
        "outputId": "75640f42-8c17-40fb-e037-084b37051b5e"
      },
      "outputs": [
        {
          "name": "stdout",
          "output_type": "stream",
          "text": [
            "4\n",
            "not prime\n"
          ]
        }
      ],
      "source": [
        "a = int(input())\n",
        "for i in range (2,a):\n",
        "    if a % i == 0:\n",
        "        print(\"not prime\")\n",
        "        break\n",
        "else:\n",
        "    print(\"prime\")\n"
      ]
    },
    {
      "cell_type": "code",
      "execution_count": null,
      "metadata": {
        "id": "hbc45jxqNyps"
      },
      "outputs": [],
      "source": [
        "#by sir\n",
        "a = int(input())\n",
        "x = []\n",
        "for i in range (1, a+1):\n",
        "  if a % i==0 :\n",
        "    x.append(i)\n",
        "if len(x) > 2:\n"
      ]
    },
    {
      "cell_type": "code",
      "execution_count": null,
      "metadata": {
        "id": "g6JSy9hnOMFc"
      },
      "outputs": [],
      "source": [
        "#write a code to print 100 to  in reverse direction"
      ]
    },
    {
      "cell_type": "code",
      "execution_count": null,
      "metadata": {
        "colab": {
          "base_uri": "https://localhost:8080/"
        },
        "id": "n9o0XTzEORjv",
        "outputId": "bc5aac81-0e60-41b8-bed9-d0cf742f0aa6"
      },
      "outputs": [
        {
          "name": "stdout",
          "output_type": "stream",
          "text": [
            "100\n",
            "99\n",
            "98\n",
            "97\n",
            "96\n",
            "95\n",
            "94\n",
            "93\n",
            "92\n",
            "91\n",
            "90\n",
            "89\n",
            "88\n",
            "87\n",
            "86\n",
            "85\n",
            "84\n",
            "83\n",
            "82\n",
            "81\n",
            "80\n",
            "79\n",
            "78\n",
            "77\n",
            "76\n",
            "75\n",
            "74\n",
            "73\n",
            "72\n",
            "71\n",
            "70\n",
            "69\n",
            "68\n",
            "67\n",
            "66\n",
            "65\n",
            "64\n",
            "63\n",
            "62\n",
            "61\n",
            "60\n",
            "59\n",
            "58\n",
            "57\n",
            "56\n",
            "55\n",
            "54\n",
            "53\n",
            "52\n",
            "51\n",
            "50\n",
            "49\n",
            "48\n",
            "47\n",
            "46\n",
            "45\n",
            "44\n",
            "43\n",
            "42\n",
            "41\n",
            "40\n",
            "39\n",
            "38\n",
            "37\n",
            "36\n",
            "35\n",
            "34\n",
            "33\n",
            "32\n",
            "31\n",
            "30\n",
            "29\n",
            "28\n",
            "27\n",
            "26\n",
            "25\n",
            "24\n",
            "23\n",
            "22\n",
            "21\n",
            "20\n",
            "19\n",
            "18\n",
            "17\n",
            "16\n",
            "15\n",
            "14\n",
            "13\n",
            "12\n",
            "11\n",
            "10\n",
            "9\n",
            "8\n",
            "7\n",
            "6\n",
            "5\n",
            "4\n",
            "3\n",
            "2\n",
            "1\n",
            "0\n"
          ]
        }
      ],
      "source": [
        "i = 100\n",
        "while i >= 0:\n",
        "    print(i)\n",
        "    i = i - 1"
      ]
    },
    {
      "cell_type": "code",
      "execution_count": null,
      "metadata": {
        "colab": {
          "base_uri": "https://localhost:8080/"
        },
        "id": "qK0gdT9kPgPj",
        "outputId": "35177b2b-ac7e-41b5-c3f7-61a8402dd04f"
      },
      "outputs": [
        {
          "name": "stdout",
          "output_type": "stream",
          "text": [
            "6\n",
            "720\n"
          ]
        }
      ],
      "source": [
        "#write the factorial code using the while loop\n",
        "a = int(input())\n",
        "\n",
        "fact =1\n",
        "while a>0:\n",
        "  fact = fact * a\n",
        "  a = a - 1\n",
        "print(fact)"
      ]
    },
    {
      "cell_type": "code",
      "execution_count": null,
      "metadata": {
        "id": "4GXXEx4kQ-qK"
      },
      "outputs": [],
      "source": [
        "#write hcf code using while loop"
      ]
    },
    {
      "cell_type": "code",
      "execution_count": null,
      "metadata": {
        "colab": {
          "base_uri": "https://localhost:8080/",
          "height": 245
        },
        "id": "hU0shHS_RiG-",
        "outputId": "20387424-dc5d-45dd-fa86-d3074c98a49c"
      },
      "outputs": [
        {
          "name": "stdout",
          "output_type": "stream",
          "text": [
            "10\n",
            "20\n"
          ]
        },
        {
          "ename": "ZeroDivisionError",
          "evalue": "integer division or modulo by zero",
          "output_type": "error",
          "traceback": [
            "\u001b[0;31m---------------------------------------------------------------------------\u001b[0m",
            "\u001b[0;31mZeroDivisionError\u001b[0m                         Traceback (most recent call last)",
            "\u001b[0;32m<ipython-input-15-89b9a1c9c668>\u001b[0m in \u001b[0;36m<cell line: 4>\u001b[0;34m()\u001b[0m\n\u001b[1;32m      3\u001b[0m \u001b[0mhcf\u001b[0m \u001b[0;34m=\u001b[0m \u001b[0;36m1\u001b[0m\u001b[0;34m\u001b[0m\u001b[0;34m\u001b[0m\u001b[0m\n\u001b[1;32m      4\u001b[0m \u001b[0;32mwhile\u001b[0m \u001b[0mi\u001b[0m \u001b[0;34m<=\u001b[0m \u001b[0ma\u001b[0m\u001b[0;34m:\u001b[0m\u001b[0;34m\u001b[0m\u001b[0;34m\u001b[0m\u001b[0m\n\u001b[0;32m----> 5\u001b[0;31m       \u001b[0;32mif\u001b[0m \u001b[0;34m(\u001b[0m\u001b[0ma\u001b[0m\u001b[0;34m%\u001b[0m\u001b[0mi\u001b[0m \u001b[0;34m==\u001b[0m \u001b[0;36m0\u001b[0m\u001b[0;34m)\u001b[0m \u001b[0;34m&\u001b[0m \u001b[0;34m(\u001b[0m\u001b[0mb\u001b[0m\u001b[0;34m%\u001b[0m\u001b[0mi\u001b[0m \u001b[0;34m==\u001b[0m \u001b[0;36m0\u001b[0m\u001b[0;34m)\u001b[0m\u001b[0;34m:\u001b[0m\u001b[0;34m\u001b[0m\u001b[0;34m\u001b[0m\u001b[0m\n\u001b[0m\u001b[1;32m      6\u001b[0m           \u001b[0mhcf\u001b[0m \u001b[0;34m=\u001b[0m \u001b[0mi\u001b[0m\u001b[0;34m\u001b[0m\u001b[0;34m\u001b[0m\u001b[0m\n\u001b[1;32m      7\u001b[0m       \u001b[0mi\u001b[0m \u001b[0;34m=\u001b[0m \u001b[0mi\u001b[0m \u001b[0;34m+\u001b[0m \u001b[0;36m1\u001b[0m\u001b[0;34m\u001b[0m\u001b[0;34m\u001b[0m\u001b[0m\n",
            "\u001b[0;31mZeroDivisionError\u001b[0m: integer division or modulo by zero"
          ]
        }
      ],
      "source": [
        "a = int(input())\n",
        "b = int(input())\n",
        "while a != b:\n",
        "    if a > b:\n",
        "        a = a - b\n",
        "    else:\n",
        "        b = b - a\n",
        "print(a)\n"
      ]
    },
    {
      "cell_type": "code",
      "execution_count": null,
      "metadata": {
        "id": "lCGj0LpGSBhX"
      },
      "outputs": [],
      "source": [
        "#write a code to print below pattern (always use nested loop)\n",
        "*\n",
        "**\n",
        "***\n",
        "****\n",
        "*****"
      ]
    },
    {
      "cell_type": "code",
      "execution_count": null,
      "metadata": {
        "colab": {
          "base_uri": "https://localhost:8080/"
        },
        "id": "_FmM_0XwSIuG",
        "outputId": "237359ca-f1c6-40ec-bbf1-8ae9eef6d790"
      },
      "outputs": [
        {
          "name": "stdout",
          "output_type": "stream",
          "text": [
            "*\n",
            "**\n",
            "***\n",
            "****\n",
            "*****\n"
          ]
        }
      ],
      "source": [
        "for i in range (1,6):\n",
        "    for j in range (1,i+1):\n",
        "        print(\"*\",end=\"\")\n",
        "    print()"
      ]
    },
    {
      "cell_type": "code",
      "execution_count": null,
      "metadata": {
        "colab": {
          "base_uri": "https://localhost:8080/"
        },
        "id": "e9QWGKmNVTbN",
        "outputId": "a04eda4a-abc5-46a2-ae14-0387ebcf1a88"
      },
      "outputs": [
        {
          "name": "stdout",
          "output_type": "stream",
          "text": [
            "*/r\n",
            "**/r\n",
            "***/r\n",
            "****/r\n",
            "*****/r\n"
          ]
        }
      ],
      "source": [
        "#by sir\n",
        "\n",
        "for i in range (1,6):\n",
        "    for j in range (1,i+1):\n",
        "        print(\"*\",end=\"\")\n",
        "    print(\"/r\")"
      ]
    },
    {
      "cell_type": "code",
      "execution_count": null,
      "metadata": {
        "colab": {
          "base_uri": "https://localhost:8080/"
        },
        "id": "P3r_wlCXUR31",
        "outputId": "f733a3b0-0615-4377-d9e1-c5c73a0d2bb7"
      },
      "outputs": [
        {
          "name": "stdout",
          "output_type": "stream",
          "text": [
            "1 1\n",
            "2 1\n",
            "2 2\n",
            "3 1\n",
            "3 2\n",
            "3 3\n",
            "4 1\n",
            "4 2\n",
            "4 3\n",
            "4 4\n",
            "5 1\n",
            "5 2\n",
            "5 3\n",
            "5 4\n",
            "5 5\n"
          ]
        }
      ],
      "source": [
        "for i in range (1,6):\n",
        "    for j in range (1,i+1):\n",
        "      print(i,j)"
      ]
    },
    {
      "cell_type": "code",
      "execution_count": null,
      "metadata": {
        "id": "OAcTiAGoWV9w"
      },
      "outputs": [],
      "source": [
        "# creating function\n",
        "\n",
        "#def sum (x, y):\n",
        "#    print(x+y)"
      ]
    },
    {
      "cell_type": "code",
      "execution_count": null,
      "metadata": {
        "id": "zKSiS8OhXGjR"
      },
      "outputs": [],
      "source": [
        "#sum(2,3)"
      ]
    },
    {
      "cell_type": "code",
      "execution_count": null,
      "metadata": {
        "id": "nIpShxhQXJTs"
      },
      "outputs": [],
      "source": [
        "#write a function to print LCM of two given number\n",
        "def lcm (x,y):\n",
        "  hcf = 1\n",
        "  for i in range (1,x+1):\n",
        "    if x % i == 0 and y % i == 0:\n",
        "      hcf = i\n",
        "  lcm = (x * y) / hcf\n",
        "  print(lcm)\n"
      ]
    },
    {
      "cell_type": "code",
      "execution_count": null,
      "metadata": {
        "colab": {
          "base_uri": "https://localhost:8080/"
        },
        "id": "QVjVczYxYq1l",
        "outputId": "cb8099d2-5984-4daf-f771-de1b5c4de276"
      },
      "outputs": [
        {
          "name": "stdout",
          "output_type": "stream",
          "text": [
            "20.0\n"
          ]
        }
      ],
      "source": [
        "lcm(10,20)"
      ]
    },
    {
      "cell_type": "code",
      "execution_count": null,
      "metadata": {
        "id": "BcMpxRAw2_TU"
      },
      "outputs": [],
      "source": [
        "# 17 june 2024 eveneing class numpy and pandas"
      ]
    },
    {
      "cell_type": "code",
      "execution_count": null,
      "metadata": {
        "id": "Bjd48Doa3D51"
      },
      "outputs": [],
      "source": [
        "import numpy as np # used to solve the mathematical problems"
      ]
    },
    {
      "cell_type": "code",
      "execution_count": null,
      "metadata": {
        "id": "njwWDztV3aHV"
      },
      "outputs": [],
      "source": [
        "lst1 =(2,3,4,6)\n",
        "lst2 =(1,3,6,2)"
      ]
    },
    {
      "cell_type": "code",
      "execution_count": null,
      "metadata": {
        "colab": {
          "base_uri": "https://localhost:8080/"
        },
        "id": "0v3qS3Cs44qQ",
        "outputId": "82713943-22d0-4d8c-dadb-b7d291bfa611"
      },
      "outputs": [
        {
          "data": {
            "text/plain": [
              "(2, 3, 4, 6, 1, 3, 6, 2)"
            ]
          },
          "execution_count": 3,
          "metadata": {},
          "output_type": "execute_result"
        }
      ],
      "source": [
        "lst1 + lst2"
      ]
    },
    {
      "cell_type": "code",
      "execution_count": null,
      "metadata": {
        "id": "Phu8Srca4-mc"
      },
      "outputs": [],
      "source": [
        "arr1 = np.array(lst1)\n",
        "arr2 =np.array(lst2)\n"
      ]
    },
    {
      "cell_type": "code",
      "execution_count": null,
      "metadata": {
        "colab": {
          "base_uri": "https://localhost:8080/"
        },
        "id": "9OKRclAI5INf",
        "outputId": "465e96a8-d62b-421b-8c17-753aa5b02a99"
      },
      "outputs": [
        {
          "data": {
            "text/plain": [
              "array([ 3,  6, 10,  8])"
            ]
          },
          "execution_count": 5,
          "metadata": {},
          "output_type": "execute_result"
        }
      ],
      "source": [
        "arr1 + arr2 # simple addition is only happening in between two"
      ]
    },
    {
      "cell_type": "code",
      "execution_count": null,
      "metadata": {
        "colab": {
          "base_uri": "https://localhost:8080/"
        },
        "id": "ocJOAdnN5uX2",
        "outputId": "457751d1-4b6d-4ed3-af8d-cd739b27f076"
      },
      "outputs": [
        {
          "data": {
            "text/plain": [
              "array([2, 3, 4, 6])"
            ]
          },
          "execution_count": 6,
          "metadata": {},
          "output_type": "execute_result"
        }
      ],
      "source": [
        "arr1"
      ]
    },
    {
      "cell_type": "code",
      "execution_count": null,
      "metadata": {
        "colab": {
          "base_uri": "https://localhost:8080/"
        },
        "id": "p-xowuGY5v7e",
        "outputId": "40adbca5-a751-4da5-f4aa-2af974ccd525"
      },
      "outputs": [
        {
          "data": {
            "text/plain": [
              "array([1, 3, 6, 2])"
            ]
          },
          "execution_count": 7,
          "metadata": {},
          "output_type": "execute_result"
        }
      ],
      "source": [
        "arr2"
      ]
    },
    {
      "cell_type": "code",
      "execution_count": null,
      "metadata": {
        "colab": {
          "base_uri": "https://localhost:8080/"
        },
        "id": "Ww0CtpQw5xkw",
        "outputId": "76313f81-c3d0-47d6-8200-ffd6827703c6"
      },
      "outputs": [
        {
          "data": {
            "text/plain": [
              "array([ 6,  9, 12, 18])"
            ]
          },
          "execution_count": 8,
          "metadata": {},
          "output_type": "execute_result"
        }
      ],
      "source": [
        "arr1 * 3 # each element is getting multiplied by 3"
      ]
    },
    {
      "cell_type": "code",
      "execution_count": null,
      "metadata": {
        "colab": {
          "base_uri": "https://localhost:8080/"
        },
        "id": "gUUneuzI6J4T",
        "outputId": "872d5628-9eaa-48db-eaba-d806ed04f572"
      },
      "outputs": [
        {
          "data": {
            "text/plain": [
              "(2, 3, 4, 6, 2, 3, 4, 6, 2, 3, 4, 6)"
            ]
          },
          "execution_count": 9,
          "metadata": {},
          "output_type": "execute_result"
        }
      ],
      "source": [
        "lst1 *3"
      ]
    },
    {
      "cell_type": "code",
      "execution_count": null,
      "metadata": {
        "id": "WYs_GnKG6XPF"
      },
      "outputs": [],
      "source": [
        "#write a code to add 10 to each element of the list without using numpy"
      ]
    },
    {
      "cell_type": "code",
      "execution_count": null,
      "metadata": {
        "colab": {
          "base_uri": "https://localhost:8080/"
        },
        "id": "33VtGHnQ6p0r",
        "outputId": "bcc72eef-f3ca-428b-ffee-08d343a7f9ba"
      },
      "outputs": [
        {
          "name": "stdout",
          "output_type": "stream",
          "text": [
            "[12, 13, 14, 16]\n"
          ]
        }
      ],
      "source": [
        "a = [2,3,4,6]\n",
        "b = []\n",
        "for num in a:\n",
        "    b.append(num + 10)\n",
        "\n",
        "print(b)\n",
        "\n"
      ]
    },
    {
      "cell_type": "code",
      "execution_count": null,
      "metadata": {
        "colab": {
          "base_uri": "https://localhost:8080/"
        },
        "id": "E0dMeHYw7suA",
        "outputId": "ffdb4be7-02d3-4cac-b852-23a4498f553d"
      },
      "outputs": [
        {
          "data": {
            "text/plain": [
              "[12, 13, 14, 16]"
            ]
          },
          "execution_count": 12,
          "metadata": {},
          "output_type": "execute_result"
        }
      ],
      "source": [
        "#by sir\n",
        "lst1 = [ 2,3,4,6]\n",
        "lst2 =[ i+10 for i in lst1]\n",
        "lst2"
      ]
    },
    {
      "cell_type": "code",
      "execution_count": null,
      "metadata": {
        "colab": {
          "background_save": true
        },
        "id": "SplXmMP0737_",
        "outputId": "8d6cfc9e-8cf3-49f9-d725-e93285723000"
      },
      "outputs": [
        {
          "ename": "TypeError",
          "evalue": "'builtin_function_or_method' object is not subscriptable",
          "output_type": "error",
          "traceback": [
            "\u001b[0;31m---------------------------------------------------------------------------\u001b[0m",
            "\u001b[0;31mTypeError\u001b[0m                                 Traceback (most recent call last)",
            "\u001b[0;32m<ipython-input-13-0f38dc1055a0>\u001b[0m in \u001b[0;36m<cell line: 1>\u001b[0;34m()\u001b[0m\n\u001b[0;32m----> 1\u001b[0;31m \u001b[0mlst1\u001b[0m \u001b[0;34m=\u001b[0m\u001b[0mnp\u001b[0m\u001b[0;34m.\u001b[0m\u001b[0marray\u001b[0m\u001b[0;34m[\u001b[0m\u001b[0mlst1\u001b[0m\u001b[0;34m]\u001b[0m\u001b[0;34m\u001b[0m\u001b[0;34m\u001b[0m\u001b[0m\n\u001b[0m",
            "\u001b[0;31mTypeError\u001b[0m: 'builtin_function_or_method' object is not subscriptable"
          ]
        }
      ],
      "source": [
        "lst1 =np.array[lst1]"
      ]
    },
    {
      "cell_type": "code",
      "source": [
        "# iloc is index based where as lock is column based"
      ],
      "metadata": {
        "id": "begjdCiU_aXZ"
      },
      "execution_count": null,
      "outputs": []
    },
    {
      "cell_type": "code",
      "source": [
        "# add a new col which would check wheather the name starts with vowel or not"
      ],
      "metadata": {
        "id": "0IjJAVi1B_U1"
      },
      "execution_count": null,
      "outputs": []
    },
    {
      "cell_type": "code",
      "source": [
        "x =[]\n",
        "a = ['a','e','i','o','u',]\n",
        "\n",
        "for i in data.name:\n",
        "  if i[0] in a:\n",
        "    x.append(True)\n",
        "  else:\n",
        "    x.append(False)"
      ],
      "metadata": {
        "colab": {
          "base_uri": "https://localhost:8080/",
          "height": 211
        },
        "id": "slvJhEf6CJEE",
        "outputId": "268aaa37-8ac5-4fc9-d6d6-1d775cd68b59"
      },
      "execution_count": null,
      "outputs": [
        {
          "output_type": "error",
          "ename": "NameError",
          "evalue": "name 'data' is not defined",
          "traceback": [
            "\u001b[0;31m---------------------------------------------------------------------------\u001b[0m",
            "\u001b[0;31mNameError\u001b[0m                                 Traceback (most recent call last)",
            "\u001b[0;32m<ipython-input-1-b6a86fdce908>\u001b[0m in \u001b[0;36m<cell line: 4>\u001b[0;34m()\u001b[0m\n\u001b[1;32m      2\u001b[0m \u001b[0ma\u001b[0m \u001b[0;34m=\u001b[0m \u001b[0;34m[\u001b[0m\u001b[0;34m'a'\u001b[0m\u001b[0;34m,\u001b[0m\u001b[0;34m'e'\u001b[0m\u001b[0;34m,\u001b[0m\u001b[0;34m'i'\u001b[0m\u001b[0;34m,\u001b[0m\u001b[0;34m'o'\u001b[0m\u001b[0;34m,\u001b[0m\u001b[0;34m'u'\u001b[0m\u001b[0;34m,\u001b[0m\u001b[0;34m]\u001b[0m\u001b[0;34m\u001b[0m\u001b[0;34m\u001b[0m\u001b[0m\n\u001b[1;32m      3\u001b[0m \u001b[0;34m\u001b[0m\u001b[0m\n\u001b[0;32m----> 4\u001b[0;31m \u001b[0;32mfor\u001b[0m \u001b[0mi\u001b[0m \u001b[0;32min\u001b[0m \u001b[0mdata\u001b[0m\u001b[0;34m.\u001b[0m\u001b[0mname\u001b[0m\u001b[0;34m:\u001b[0m\u001b[0;34m\u001b[0m\u001b[0;34m\u001b[0m\u001b[0m\n\u001b[0m\u001b[1;32m      5\u001b[0m   \u001b[0;32mif\u001b[0m \u001b[0mi\u001b[0m\u001b[0;34m[\u001b[0m\u001b[0;36m0\u001b[0m\u001b[0;34m]\u001b[0m \u001b[0;32min\u001b[0m \u001b[0ma\u001b[0m\u001b[0;34m:\u001b[0m\u001b[0;34m\u001b[0m\u001b[0;34m\u001b[0m\u001b[0m\n\u001b[1;32m      6\u001b[0m     \u001b[0mx\u001b[0m\u001b[0;34m.\u001b[0m\u001b[0mappend\u001b[0m\u001b[0;34m(\u001b[0m\u001b[0;32mTrue\u001b[0m\u001b[0;34m)\u001b[0m\u001b[0;34m\u001b[0m\u001b[0;34m\u001b[0m\u001b[0m\n",
            "\u001b[0;31mNameError\u001b[0m: name 'data' is not defined"
          ]
        }
      ]
    },
    {
      "cell_type": "code",
      "source": [
        "data['new_col3'] = x\n",
        "data"
      ],
      "metadata": {
        "id": "5CKgPB5WChVL"
      },
      "execution_count": null,
      "outputs": []
    },
    {
      "cell_type": "code",
      "source": [
        "#add a new column which will have length of the name"
      ],
      "metadata": {
        "id": "Zy3pHDeDCpCr"
      },
      "execution_count": null,
      "outputs": []
    },
    {
      "cell_type": "code",
      "source": [
        "def length(x):\n",
        "  return (len(x)):"
      ],
      "metadata": {
        "colab": {
          "base_uri": "https://localhost:8080/",
          "height": 106
        },
        "id": "UGVIV3SKDrbk",
        "outputId": "b4289e35-2ec5-48ff-b66e-698ceda7ab71"
      },
      "execution_count": null,
      "outputs": [
        {
          "output_type": "error",
          "ename": "SyntaxError",
          "evalue": "invalid syntax (<ipython-input-2-d634a0e78a0d>, line 2)",
          "traceback": [
            "\u001b[0;36m  File \u001b[0;32m\"<ipython-input-2-d634a0e78a0d>\"\u001b[0;36m, line \u001b[0;32m2\u001b[0m\n\u001b[0;31m    return (len(x)):\u001b[0m\n\u001b[0m                   ^\u001b[0m\n\u001b[0;31mSyntaxError\u001b[0m\u001b[0;31m:\u001b[0m invalid syntax\n"
          ]
        }
      ]
    },
    {
      "cell_type": "code",
      "source": [
        "length(\"sumit\")"
      ],
      "metadata": {
        "colab": {
          "base_uri": "https://localhost:8080/",
          "height": 141
        },
        "id": "bMKs0sLYD_gF",
        "outputId": "b08f9c48-6e96-481d-8758-d159643d01cb"
      },
      "execution_count": null,
      "outputs": [
        {
          "output_type": "error",
          "ename": "NameError",
          "evalue": "name 'length' is not defined",
          "traceback": [
            "\u001b[0;31m---------------------------------------------------------------------------\u001b[0m",
            "\u001b[0;31mNameError\u001b[0m                                 Traceback (most recent call last)",
            "\u001b[0;32m<ipython-input-4-bb2de9c66c68>\u001b[0m in \u001b[0;36m<cell line: 1>\u001b[0;34m()\u001b[0m\n\u001b[0;32m----> 1\u001b[0;31m \u001b[0mlength\u001b[0m\u001b[0;34m(\u001b[0m\u001b[0;34m\"sumit\"\u001b[0m\u001b[0;34m)\u001b[0m\u001b[0;34m\u001b[0m\u001b[0;34m\u001b[0m\u001b[0m\n\u001b[0m",
            "\u001b[0;31mNameError\u001b[0m: name 'length' is not defined"
          ]
        }
      ]
    },
    {
      "cell_type": "code",
      "source": [
        "data['new_col4'] = data.name.apply(length)"
      ],
      "metadata": {
        "id": "sKQ5TgcCEEFB"
      },
      "execution_count": null,
      "outputs": []
    },
    {
      "cell_type": "code",
      "source": [
        "data"
      ],
      "metadata": {
        "id": "LUqB3suJELj8"
      },
      "execution_count": null,
      "outputs": []
    },
    {
      "cell_type": "code",
      "source": [
        "#add a new col which would have factorial of e_id"
      ],
      "metadata": {
        "id": "1Pfhbr-3FSbb"
      },
      "execution_count": null,
      "outputs": []
    },
    {
      "cell_type": "code",
      "source": [
        "def factorial(x):\n",
        "  fact =1\n",
        "  for i in range (1,x+1):\n",
        "    fact = fact * i\n",
        "  return (fact)"
      ],
      "metadata": {
        "id": "dK_eu4EcFYWL"
      },
      "execution_count": null,
      "outputs": []
    },
    {
      "cell_type": "code",
      "source": [
        "factorial (5)"
      ],
      "metadata": {
        "colab": {
          "base_uri": "https://localhost:8080/"
        },
        "id": "0Z3ymy9BFe5u",
        "outputId": "c8d06c84-7d56-4f5f-f2dc-6f5ca07ae9cf"
      },
      "execution_count": null,
      "outputs": [
        {
          "output_type": "execute_result",
          "data": {
            "text/plain": [
              "120"
            ]
          },
          "metadata": {},
          "execution_count": 6
        }
      ]
    },
    {
      "cell_type": "code",
      "source": [
        "data['new_col5'] = data.e_id.apply(factorial)"
      ],
      "metadata": {
        "colab": {
          "base_uri": "https://localhost:8080/",
          "height": 141
        },
        "id": "TVmuiWGcFirs",
        "outputId": "162d4e5d-a98f-45b6-8fb7-dabcb5eb6bbc"
      },
      "execution_count": null,
      "outputs": [
        {
          "output_type": "error",
          "ename": "NameError",
          "evalue": "name 'data' is not defined",
          "traceback": [
            "\u001b[0;31m---------------------------------------------------------------------------\u001b[0m",
            "\u001b[0;31mNameError\u001b[0m                                 Traceback (most recent call last)",
            "\u001b[0;32m<ipython-input-7-d5181e5606d2>\u001b[0m in \u001b[0;36m<cell line: 1>\u001b[0;34m()\u001b[0m\n\u001b[0;32m----> 1\u001b[0;31m \u001b[0mdata\u001b[0m\u001b[0;34m[\u001b[0m\u001b[0;34m'new_col5'\u001b[0m\u001b[0;34m]\u001b[0m \u001b[0;34m=\u001b[0m \u001b[0mdata\u001b[0m\u001b[0;34m.\u001b[0m\u001b[0me_id\u001b[0m\u001b[0;34m.\u001b[0m\u001b[0mapply\u001b[0m\u001b[0;34m(\u001b[0m\u001b[0mfactorial\u001b[0m\u001b[0;34m)\u001b[0m\u001b[0;34m\u001b[0m\u001b[0;34m\u001b[0m\u001b[0m\n\u001b[0m",
            "\u001b[0;31mNameError\u001b[0m: name 'data' is not defined"
          ]
        }
      ]
    },
    {
      "cell_type": "code",
      "source": [
        "data[data.e_id == 4]"
      ],
      "metadata": {
        "id": "11sCMBqOFozA"
      },
      "execution_count": null,
      "outputs": []
    },
    {
      "cell_type": "code",
      "source": [
        "#write a code to extract the e_id < 4 and new_col ='vowel'\n",
        "data[(data.e_id < 4) & (data.new_col3 == 'Vowels')]"
      ],
      "metadata": {
        "id": "-bg9qPXeF9Lc"
      },
      "execution_count": null,
      "outputs": []
    },
    {
      "cell_type": "code",
      "source": [
        "# join\n",
        "data = pd.DataFrame({''})\n",
        "data_2 = pd.DataFrame({''})"
      ],
      "metadata": {
        "id": "0m94vEgwG9K7"
      },
      "execution_count": null,
      "outputs": []
    },
    {
      "cell_type": "code",
      "source": [
        "data_3 = pd.merge(data,data_2,left_on = 'e_id', right_on='e_id', how ='inner')"
      ],
      "metadata": {
        "id": "5NsP09YpIbJu"
      },
      "execution_count": null,
      "outputs": []
    },
    {
      "cell_type": "code",
      "source": [
        "data_3 = pd.merge(data,data_2,left_on = 'e_id', right_on='e_id', how ='left')"
      ],
      "metadata": {
        "id": "nG6583B6InfC"
      },
      "execution_count": null,
      "outputs": []
    }
  ],
  "metadata": {
    "colab": {
      "provenance": [],
      "authorship_tag": "ABX9TyO+27MOEi5s32k02co75192",
      "include_colab_link": true
    },
    "kernelspec": {
      "display_name": "Python 3",
      "name": "python3"
    },
    "language_info": {
      "name": "python"
    }
  },
  "nbformat": 4,
  "nbformat_minor": 0
}